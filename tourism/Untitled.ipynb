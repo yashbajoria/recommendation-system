{
 "cells": [
  {
   "cell_type": "code",
   "execution_count": 2,
   "metadata": {},
   "outputs": [],
   "source": [
    "import numpy as np\n",
    "import matplotlib.pyplot as plt\n",
    "import pandas as pd\n",
    "import random\n"
   ]
  },
  {
   "cell_type": "code",
   "execution_count": 3,
   "metadata": {},
   "outputs": [],
   "source": [
    "from numpy import cos, sin, arcsin, sqrt\n",
    "from math import radians\n",
    "\n",
    "import math"
   ]
  },
  {
   "cell_type": "code",
   "execution_count": 4,
   "metadata": {},
   "outputs": [],
   "source": [
    "def distance(lat1, lon1,lat2, lon2 ):\n",
    "\n",
    "    radius = 6371 # km\n",
    "\n",
    "    dlat = math.radians(lat2-lat1)\n",
    "    dlon = math.radians(lon2-lon1)\n",
    "    a = math.sin(dlat/2) * math.sin(dlat/2) + math.cos(math.radians(lat1)) \\\n",
    "        * math.cos(math.radians(lat2)) * math.sin(dlon/2) * math.sin(dlon/2)\n",
    "    c = 2 * math.atan2(math.sqrt(a), math.sqrt(1-a))\n",
    "    d = radius * c\n",
    "\n",
    "    return d"
   ]
  },
  {
   "cell_type": "code",
   "execution_count": 5,
   "metadata": {},
   "outputs": [],
   "source": [
    "def Sort(sub_li): \n",
    "  \n",
    "\n",
    "    return(sorted(sub_li, key = lambda x: x[1])) "
   ]
  },
  {
   "cell_type": "code",
   "execution_count": 6,
   "metadata": {},
   "outputs": [],
   "source": [
    "def reccomendation(place_id,relation,k):\n",
    "    review=[]\n",
    "    for title_id in relation.columns:\n",
    "        if title_id==place_id:\n",
    "            continue\n",
    "        correlation =algoPearson(relation[title_id],relation[place_id])\n",
    "        if np.isnan(correlation):\n",
    "             continue\n",
    "        else:\n",
    "             review.append((title_id,correlation))\n",
    "\n",
    "    review.sort(key=lambda tup: tup[1], reverse=True)\n",
    "    return review[:k]\n"
   ]
  },
  {
   "cell_type": "code",
   "execution_count": 7,
   "metadata": {},
   "outputs": [],
   "source": [
    "def algoPearson(place1,place2):\n",
    "    related_rating1=place1-place1.mean()\n",
    "    related_rating2=place2-place2.mean()\n",
    "    \n",
    "    k=np.sum(related_rating1 * related_rating2) /np.sqrt(np.sum(related_rating1**2)* np.sum(related_rating2**2))\n",
    "    if np.isnan(k):\n",
    "        return 0\n",
    "    else:\n",
    "        return k"
   ]
  },
  {
   "cell_type": "code",
   "execution_count": 8,
   "metadata": {},
   "outputs": [],
   "source": [
    "def ran():\n",
    "    y=random.randint(0,5)\n",
    "    if(y<=4):\n",
    "        y=0\n",
    "    else:\n",
    "        y=random.randint(1,5)\n",
    "    return y \n",
    "\n",
    "def pin(place):\n",
    "\n",
    "    import numpy as np\n",
    "    import matplotlib.pyplot as plt\n",
    "    import pandas as pd\n",
    "    import random\n",
    "    da=pd.read_csv('new.csv')\n",
    "    \n",
    "    m=211\n",
    "    n=1000\n",
    "    ma=[[0]*m for i in range(n)]\n",
    "    for i in range(n):\n",
    "        for j in range(m):\n",
    "            ma[i][j]=ran()\n",
    "   \n",
    "    r=pd.DataFrame(ma)\n",
    "    ans=reccomendation(place,r,20)\n",
    "    rr=da.drop(['latitude', 'longitude'], axis=1)\n",
    "\n",
    "    latitudee=da['latitude'].tolist()\n",
    "    longitude=da['longitude'].tolist()\n",
    "    places=da['Places'].tolist()\n",
    "    \n",
    "    an=[]\n",
    "    for i in range(20):\n",
    "        an.append(places[ans[i][0]])\n",
    "\n",
    "    \n",
    "    \n",
    "    \n",
    "    \n",
    "    \n",
    "\n",
    "    like=place\n",
    "\n",
    "\n",
    "\n",
    "    har=[]\n",
    "    ansf=[]\n",
    "    for i in range(20):\n",
    "        j=distance(latitudee[like],longitude[like],latitudee[ans[i][0]],longitude[ans[i][0]])\n",
    "        har.append([ans[i][0],j])\n",
    "    \n",
    "\n",
    "    har=Sort(har)\n",
    "    \n",
    "    \n",
    "    for i in range(20):\n",
    "        j=har[i][0]\n",
    "        ansf.append(places[j])    \n",
    "    \n",
    "        \n",
    "    return ansf\n",
    "    \n",
    "    \n"
   ]
  },
  {
   "cell_type": "code",
   "execution_count": 9,
   "metadata": {},
   "outputs": [],
   "source": [
    "\n",
    "t=pin(55)"
   ]
  },
  {
   "cell_type": "code",
   "execution_count": 11,
   "metadata": {},
   "outputs": [
    {
     "name": "stdout",
     "output_type": "stream",
     "text": [
      "['Meghalaya Lady Hydari Park', 'Meghalaya Elephant Falls', 'Meghalaya Laitmawsiang', 'Meghalaya Wahkaba Falls Laitryngew', 'Meghalaya Tourist Spot Kutmadan Sohra', 'Assam Sonitpur', 'Arunachal Pradesh  Jaswant Garh', 'Assam  Tarakata Silpagram at Asarikandi', 'Assam Joypur ', 'Arunachal Pradesh  Pappu valley', 'Tripura Roa Wild Life Sanctuary Panisagar', 'Mizoram Kolasib', 'Tripura Chabimura Amarpur Gomati ', 'Tripura Bhubeneswari Mandir Udaipur Gomati District', 'Manipur Ukhrul', 'Tripura Trishna Wild Life Sanctuary', 'Arunachal Pradesh  Likabali', 'Mizoram Serchhip', 'Sikkim Temi Tarku', 'Arunachal Pradesh  Malinithan']\n"
     ]
    }
   ],
   "source": [
    "print(t)"
   ]
  },
  {
   "cell_type": "code",
   "execution_count": null,
   "metadata": {},
   "outputs": [],
   "source": []
  }
 ],
 "metadata": {
  "kernelspec": {
   "display_name": "Python 3",
   "language": "python",
   "name": "python3"
  },
  "language_info": {
   "codemirror_mode": {
    "name": "ipython",
    "version": 3
   },
   "file_extension": ".py",
   "mimetype": "text/x-python",
   "name": "python",
   "nbconvert_exporter": "python",
   "pygments_lexer": "ipython3",
   "version": "3.6.5"
  }
 },
 "nbformat": 4,
 "nbformat_minor": 2
}
